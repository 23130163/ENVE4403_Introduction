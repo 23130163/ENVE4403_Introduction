{
 "cells": [
  {
   "cell_type": "markdown",
   "metadata": {},
   "source": [
    "# Tutorial 1: CSVs and NetCDFs\n",
    "This tutorial will introduce you to the basics of working with oceanographic data in Python. We will use the [Pandas](https://pandas.pydata.org/) package to work with data in the form of comma-separated values (CSV) files, and the [xarray](http://xarray.pydata.org/en/stable/) package to work with data in the form of NetCDF files. We will also use the [Matplotlib](https://matplotlib.org/) package to plot our data.\n",
    "\n",
    "To begin, we will impoty the packages we will be using in this tutorial."
   ]
  },
  {
   "cell_type": "code",
   "execution_count": null,
   "metadata": {},
   "outputs": [],
   "source": [
    "import numpy as np # used for array operations\n",
    "import pandas as pd # used for reading csv files\n",
    "import xarray as xr # used for reading netCDF files\n",
    "import matplotlib.pyplot as plt # used for plotting"
   ]
  },
  {
   "attachments": {},
   "cell_type": "markdown",
   "metadata": {},
   "source": [
    "We will begin by looking at a "
   ]
  }
 ],
 "metadata": {
  "language_info": {
   "name": "python"
  },
  "orig_nbformat": 4
 },
 "nbformat": 4,
 "nbformat_minor": 2
}

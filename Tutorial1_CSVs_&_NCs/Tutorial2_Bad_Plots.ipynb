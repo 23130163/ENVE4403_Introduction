{
 "cells": [
  {
   "attachments": {},
   "cell_type": "markdown",
   "metadata": {},
   "source": [
    "# Bad plots (and how to fix them)\n",
    "\n",
    "### A note on API's\n",
    "An API is a set of functions and methods that allow you to access and manipulate data. Today, we will be looking more closely at the matplotlib.pyplot API. Each pyplot function makes some change to a figure: e.g., creates a figure, creates a plotting area in a figure, plots some lines in a plotting area, decorates the plot with labels, etc..\n",
    "\n",
    "Specifically, we explore how to make line plots with the ``.plot()`` method, including how to check the optional ``key word arguments`` (``kwargs``) that can be used to customize the plot, and how you can use these to make your plots more readable.\n",
    "\n",
    "## Step 1: Determine the purpose of the plot\n",
    "Before producing a plot, it is important to consider **what you want to communicate** with the plot. This will help you determine what type of plot to use, and what information to include in the plot.\n",
    "\n",
    "This will then guide other decisions we make regarding initial data processing (e.g. how do we filter the data?) and how we use size, shape, colour, and other visual elements to convey the information we want to communicate.\n",
    "\n",
    "Today we are going to investigate the **spring-neap variability (14 day) of temperature data** collected by the ADCP we looked at in the first tutorial. We wont use xarray to plot today, but we will use it to load the data."
   ]
  },
  {
   "cell_type": "code",
   "execution_count": 20,
   "metadata": {},
   "outputs": [],
   "source": [
    "import xarray as xr # Import xarray\n",
    "import matplotlib.pyplot as plt # Import matplotlib\n",
    "import numpy as np # Import numpy\n",
    "from scipy import signal\n",
    "import matplotlib.dates as mdates\n",
    "\n",
    "## Open the file and get out the temperature and time variables for 2 weeks in November 2019 as numpy arrays\n",
    "ds =  xr.open_dataset('ADCP.nc').sel(TIME=slice('2019-11-01','2019-11-14'))\n",
    "\n",
    "temp = ds['TEMP'].values\n",
    "time = ds['TIME'].values\n",
    "\n",
    "# Use a filter to remove frequencies below 6 hours (we should still see the tide)\n",
    "low_pass_6hr = signal.butter(2, 1/(6*60*60), 'low', fs=1/(10*60), output='sos')\n",
    "temp_filt_6hr_lowpass = signal.sosfiltfilt(low_pass_6hr, temp)\n",
    "\n",
    "# Use a filter to remove frequencies below 24 hours)\n",
    "low_pass_24hr = signal.butter(2, 1/(24*60*60), 'low', fs=1/(10*60), output='sos')\n",
    "temp_filt_24hr_lowpass = signal.sosfiltfilt(low_pass_24hr, temp)"
   ]
  },
  {
   "attachments": {},
   "cell_type": "markdown",
   "metadata": {},
   "source": [
    "Note that because we have taken it out of the netcdf file, we have lost the metadata that we had in the netcdf file. So now we will need to manually add the information back in."
   ]
  },
  {
   "cell_type": "code",
   "execution_count": null,
   "metadata": {},
   "outputs": [],
   "source": []
  },
  {
   "attachments": {},
   "cell_type": "markdown",
   "metadata": {},
   "source": []
  }
 ],
 "metadata": {
  "kernelspec": {
   "display_name": "work3",
   "language": "python",
   "name": "python3"
  },
  "language_info": {
   "codemirror_mode": {
    "name": "ipython",
    "version": 3
   },
   "file_extension": ".py",
   "mimetype": "text/x-python",
   "name": "python",
   "nbconvert_exporter": "python",
   "pygments_lexer": "ipython3",
   "version": "3.10.5"
  },
  "orig_nbformat": 4,
  "vscode": {
   "interpreter": {
    "hash": "4207ec345776e8e7de157712ed6ec1cb8896dbfc0271dd4674c1c496ff4df04a"
   }
  }
 },
 "nbformat": 4,
 "nbformat_minor": 2
}
